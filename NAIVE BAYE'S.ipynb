{
 "cells": [
  {
   "cell_type": "markdown",
   "id": "65db45b6",
   "metadata": {},
   "source": [
    "# Social Network AD \n",
    "\n",
    "We are using the Social network ad dataset. The dataset contains the details of users in a social networking site to find whether a user buys a product by clicking the ad on the site based on their salary, age, and gender."
   ]
  },
  {
   "cell_type": "code",
   "execution_count": 3,
   "id": "a9c2aad9",
   "metadata": {},
   "outputs": [],
   "source": [
    "#importing libraries\n",
    "import pandas as pd\n",
    "import numpy as mp\n",
    "import matplotlib.pyplot as plt\n"
   ]
  },
  {
   "cell_type": "code",
   "execution_count": 4,
   "id": "a4e7a1c2",
   "metadata": {},
   "outputs": [],
   "source": [
    "#importing data\n",
    "data= pd.read_csv('NBDATA.csv')"
   ]
  },
  {
   "cell_type": "code",
   "execution_count": 5,
   "id": "298d39f2",
   "metadata": {},
   "outputs": [
    {
     "data": {
      "text/html": [
       "<div>\n",
       "<style scoped>\n",
       "    .dataframe tbody tr th:only-of-type {\n",
       "        vertical-align: middle;\n",
       "    }\n",
       "\n",
       "    .dataframe tbody tr th {\n",
       "        vertical-align: top;\n",
       "    }\n",
       "\n",
       "    .dataframe thead th {\n",
       "        text-align: right;\n",
       "    }\n",
       "</style>\n",
       "<table border=\"1\" class=\"dataframe\">\n",
       "  <thead>\n",
       "    <tr style=\"text-align: right;\">\n",
       "      <th></th>\n",
       "      <th>INDEX</th>\n",
       "      <th>USER ID</th>\n",
       "      <th>GENDER</th>\n",
       "      <th>AGE</th>\n",
       "      <th>ESTIMATEDSALARY</th>\n",
       "      <th>PURCHASED</th>\n",
       "    </tr>\n",
       "  </thead>\n",
       "  <tbody>\n",
       "    <tr>\n",
       "      <th>0</th>\n",
       "      <td>0</td>\n",
       "      <td>15624510</td>\n",
       "      <td>MALE</td>\n",
       "      <td>19</td>\n",
       "      <td>19000</td>\n",
       "      <td>0</td>\n",
       "    </tr>\n",
       "    <tr>\n",
       "      <th>1</th>\n",
       "      <td>1</td>\n",
       "      <td>15810944</td>\n",
       "      <td>MALE</td>\n",
       "      <td>35</td>\n",
       "      <td>20000</td>\n",
       "      <td>0</td>\n",
       "    </tr>\n",
       "    <tr>\n",
       "      <th>2</th>\n",
       "      <td>2</td>\n",
       "      <td>15668575</td>\n",
       "      <td>FEMALE</td>\n",
       "      <td>26</td>\n",
       "      <td>43000</td>\n",
       "      <td>0</td>\n",
       "    </tr>\n",
       "    <tr>\n",
       "      <th>3</th>\n",
       "      <td>3</td>\n",
       "      <td>15603246</td>\n",
       "      <td>FEMALE</td>\n",
       "      <td>27</td>\n",
       "      <td>57000</td>\n",
       "      <td>0</td>\n",
       "    </tr>\n",
       "    <tr>\n",
       "      <th>4</th>\n",
       "      <td>4</td>\n",
       "      <td>15804002</td>\n",
       "      <td>MALE</td>\n",
       "      <td>19</td>\n",
       "      <td>76000</td>\n",
       "      <td>0</td>\n",
       "    </tr>\n",
       "    <tr>\n",
       "      <th>5</th>\n",
       "      <td>5</td>\n",
       "      <td>15728773</td>\n",
       "      <td>MALE</td>\n",
       "      <td>27</td>\n",
       "      <td>58000</td>\n",
       "      <td>0</td>\n",
       "    </tr>\n",
       "    <tr>\n",
       "      <th>6</th>\n",
       "      <td>6</td>\n",
       "      <td>15598044</td>\n",
       "      <td>FEMALE</td>\n",
       "      <td>27</td>\n",
       "      <td>84000</td>\n",
       "      <td>0</td>\n",
       "    </tr>\n",
       "    <tr>\n",
       "      <th>7</th>\n",
       "      <td>7</td>\n",
       "      <td>15694829</td>\n",
       "      <td>FEMALE</td>\n",
       "      <td>32</td>\n",
       "      <td>150000</td>\n",
       "      <td>1</td>\n",
       "    </tr>\n",
       "    <tr>\n",
       "      <th>8</th>\n",
       "      <td>8</td>\n",
       "      <td>15600575</td>\n",
       "      <td>MALE</td>\n",
       "      <td>25</td>\n",
       "      <td>33000</td>\n",
       "      <td>0</td>\n",
       "    </tr>\n",
       "    <tr>\n",
       "      <th>9</th>\n",
       "      <td>9</td>\n",
       "      <td>15787311</td>\n",
       "      <td>FEMALE</td>\n",
       "      <td>35</td>\n",
       "      <td>65000</td>\n",
       "      <td>0</td>\n",
       "    </tr>\n",
       "    <tr>\n",
       "      <th>10</th>\n",
       "      <td>10</td>\n",
       "      <td>15570769</td>\n",
       "      <td>FEMALE</td>\n",
       "      <td>26</td>\n",
       "      <td>80000</td>\n",
       "      <td>0</td>\n",
       "    </tr>\n",
       "  </tbody>\n",
       "</table>\n",
       "</div>"
      ],
      "text/plain": [
       "    INDEX   USER ID  GENDER  AGE  ESTIMATEDSALARY  PURCHASED\n",
       "0       0  15624510    MALE   19            19000          0\n",
       "1       1  15810944    MALE   35            20000          0\n",
       "2       2  15668575  FEMALE   26            43000          0\n",
       "3       3  15603246  FEMALE   27            57000          0\n",
       "4       4  15804002    MALE   19            76000          0\n",
       "5       5  15728773    MALE   27            58000          0\n",
       "6       6  15598044  FEMALE   27            84000          0\n",
       "7       7  15694829  FEMALE   32           150000          1\n",
       "8       8  15600575    MALE   25            33000          0\n",
       "9       9  15787311  FEMALE   35            65000          0\n",
       "10     10  15570769  FEMALE   26            80000          0"
      ]
     },
     "execution_count": 5,
     "metadata": {},
     "output_type": "execute_result"
    }
   ],
   "source": [
    "data"
   ]
  },
  {
   "cell_type": "code",
   "execution_count": 6,
   "id": "01232bcc",
   "metadata": {},
   "outputs": [
    {
     "data": {
      "text/html": [
       "<div>\n",
       "<style scoped>\n",
       "    .dataframe tbody tr th:only-of-type {\n",
       "        vertical-align: middle;\n",
       "    }\n",
       "\n",
       "    .dataframe tbody tr th {\n",
       "        vertical-align: top;\n",
       "    }\n",
       "\n",
       "    .dataframe thead th {\n",
       "        text-align: right;\n",
       "    }\n",
       "</style>\n",
       "<table border=\"1\" class=\"dataframe\">\n",
       "  <thead>\n",
       "    <tr style=\"text-align: right;\">\n",
       "      <th></th>\n",
       "      <th>INDEX</th>\n",
       "      <th>USER ID</th>\n",
       "      <th>AGE</th>\n",
       "      <th>ESTIMATEDSALARY</th>\n",
       "      <th>PURCHASED</th>\n",
       "    </tr>\n",
       "  </thead>\n",
       "  <tbody>\n",
       "    <tr>\n",
       "      <th>count</th>\n",
       "      <td>11.000000</td>\n",
       "      <td>1.100000e+01</td>\n",
       "      <td>11.000000</td>\n",
       "      <td>11.000000</td>\n",
       "      <td>11.000000</td>\n",
       "    </tr>\n",
       "    <tr>\n",
       "      <th>mean</th>\n",
       "      <td>5.000000</td>\n",
       "      <td>1.568105e+07</td>\n",
       "      <td>27.090909</td>\n",
       "      <td>62272.727273</td>\n",
       "      <td>0.090909</td>\n",
       "    </tr>\n",
       "    <tr>\n",
       "      <th>std</th>\n",
       "      <td>3.316625</td>\n",
       "      <td>8.982337e+04</td>\n",
       "      <td>5.356390</td>\n",
       "      <td>36894.690429</td>\n",
       "      <td>0.301511</td>\n",
       "    </tr>\n",
       "    <tr>\n",
       "      <th>min</th>\n",
       "      <td>0.000000</td>\n",
       "      <td>1.557077e+07</td>\n",
       "      <td>19.000000</td>\n",
       "      <td>19000.000000</td>\n",
       "      <td>0.000000</td>\n",
       "    </tr>\n",
       "    <tr>\n",
       "      <th>25%</th>\n",
       "      <td>2.500000</td>\n",
       "      <td>1.560191e+07</td>\n",
       "      <td>25.500000</td>\n",
       "      <td>38000.000000</td>\n",
       "      <td>0.000000</td>\n",
       "    </tr>\n",
       "    <tr>\n",
       "      <th>50%</th>\n",
       "      <td>5.000000</td>\n",
       "      <td>1.566858e+07</td>\n",
       "      <td>27.000000</td>\n",
       "      <td>58000.000000</td>\n",
       "      <td>0.000000</td>\n",
       "    </tr>\n",
       "    <tr>\n",
       "      <th>75%</th>\n",
       "      <td>7.500000</td>\n",
       "      <td>1.575804e+07</td>\n",
       "      <td>29.500000</td>\n",
       "      <td>78000.000000</td>\n",
       "      <td>0.000000</td>\n",
       "    </tr>\n",
       "    <tr>\n",
       "      <th>max</th>\n",
       "      <td>10.000000</td>\n",
       "      <td>1.581094e+07</td>\n",
       "      <td>35.000000</td>\n",
       "      <td>150000.000000</td>\n",
       "      <td>1.000000</td>\n",
       "    </tr>\n",
       "  </tbody>\n",
       "</table>\n",
       "</div>"
      ],
      "text/plain": [
       "           INDEX       USER ID        AGE  ESTIMATEDSALARY  PURCHASED\n",
       "count  11.000000  1.100000e+01  11.000000        11.000000  11.000000\n",
       "mean    5.000000  1.568105e+07  27.090909     62272.727273   0.090909\n",
       "std     3.316625  8.982337e+04   5.356390     36894.690429   0.301511\n",
       "min     0.000000  1.557077e+07  19.000000     19000.000000   0.000000\n",
       "25%     2.500000  1.560191e+07  25.500000     38000.000000   0.000000\n",
       "50%     5.000000  1.566858e+07  27.000000     58000.000000   0.000000\n",
       "75%     7.500000  1.575804e+07  29.500000     78000.000000   0.000000\n",
       "max    10.000000  1.581094e+07  35.000000    150000.000000   1.000000"
      ]
     },
     "execution_count": 6,
     "metadata": {},
     "output_type": "execute_result"
    }
   ],
   "source": [
    "data.describe()"
   ]
  },
  {
   "cell_type": "code",
   "execution_count": 7,
   "id": "71b6f0ba",
   "metadata": {},
   "outputs": [
    {
     "data": {
      "text/html": [
       "<div>\n",
       "<style scoped>\n",
       "    .dataframe tbody tr th:only-of-type {\n",
       "        vertical-align: middle;\n",
       "    }\n",
       "\n",
       "    .dataframe tbody tr th {\n",
       "        vertical-align: top;\n",
       "    }\n",
       "\n",
       "    .dataframe thead th {\n",
       "        text-align: right;\n",
       "    }\n",
       "</style>\n",
       "<table border=\"1\" class=\"dataframe\">\n",
       "  <thead>\n",
       "    <tr style=\"text-align: right;\">\n",
       "      <th></th>\n",
       "      <th>INDEX</th>\n",
       "      <th>USER ID</th>\n",
       "      <th>AGE</th>\n",
       "      <th>ESTIMATEDSALARY</th>\n",
       "      <th>PURCHASED</th>\n",
       "    </tr>\n",
       "  </thead>\n",
       "  <tbody>\n",
       "    <tr>\n",
       "      <th>INDEX</th>\n",
       "      <td>1.000000</td>\n",
       "      <td>-0.198056</td>\n",
       "      <td>0.281450</td>\n",
       "      <td>0.530377</td>\n",
       "      <td>0.200000</td>\n",
       "    </tr>\n",
       "    <tr>\n",
       "      <th>USER ID</th>\n",
       "      <td>-0.198056</td>\n",
       "      <td>1.000000</td>\n",
       "      <td>0.355527</td>\n",
       "      <td>-0.024560</td>\n",
       "      <td>0.050868</td>\n",
       "    </tr>\n",
       "    <tr>\n",
       "      <th>AGE</th>\n",
       "      <td>0.281450</td>\n",
       "      <td>0.355527</td>\n",
       "      <td>1.000000</td>\n",
       "      <td>0.211883</td>\n",
       "      <td>0.303966</td>\n",
       "    </tr>\n",
       "    <tr>\n",
       "      <th>ESTIMATEDSALARY</th>\n",
       "      <td>0.530377</td>\n",
       "      <td>-0.024560</td>\n",
       "      <td>0.211883</td>\n",
       "      <td>1.000000</td>\n",
       "      <td>0.788619</td>\n",
       "    </tr>\n",
       "    <tr>\n",
       "      <th>PURCHASED</th>\n",
       "      <td>0.200000</td>\n",
       "      <td>0.050868</td>\n",
       "      <td>0.303966</td>\n",
       "      <td>0.788619</td>\n",
       "      <td>1.000000</td>\n",
       "    </tr>\n",
       "  </tbody>\n",
       "</table>\n",
       "</div>"
      ],
      "text/plain": [
       "                    INDEX   USER ID       AGE  ESTIMATEDSALARY  PURCHASED\n",
       "INDEX            1.000000 -0.198056  0.281450         0.530377   0.200000\n",
       "USER ID         -0.198056  1.000000  0.355527        -0.024560   0.050868\n",
       "AGE              0.281450  0.355527  1.000000         0.211883   0.303966\n",
       "ESTIMATEDSALARY  0.530377 -0.024560  0.211883         1.000000   0.788619\n",
       "PURCHASED        0.200000  0.050868  0.303966         0.788619   1.000000"
      ]
     },
     "execution_count": 7,
     "metadata": {},
     "output_type": "execute_result"
    }
   ],
   "source": [
    "data.corr()"
   ]
  },
  {
   "cell_type": "code",
   "execution_count": 8,
   "id": "afa7d032",
   "metadata": {},
   "outputs": [],
   "source": [
    "X = data.iloc[:, [2, 3]].values #2,3 column of data\n",
    "y = data.iloc[:, -1].values #last column of data\n"
   ]
  },
  {
   "cell_type": "code",
   "execution_count": 9,
   "id": "2e01b02e",
   "metadata": {},
   "outputs": [
    {
     "data": {
      "text/plain": [
       "array([['MALE', 19],\n",
       "       ['MALE', 35],\n",
       "       ['FEMALE', 26],\n",
       "       ['FEMALE', 27],\n",
       "       ['MALE', 19],\n",
       "       ['MALE', 27],\n",
       "       ['FEMALE', 27],\n",
       "       ['FEMALE', 32],\n",
       "       ['MALE', 25],\n",
       "       ['FEMALE', 35],\n",
       "       ['FEMALE', 26]], dtype=object)"
      ]
     },
     "execution_count": 9,
     "metadata": {},
     "output_type": "execute_result"
    }
   ],
   "source": [
    "X"
   ]
  },
  {
   "cell_type": "code",
   "execution_count": 10,
   "id": "74453643",
   "metadata": {},
   "outputs": [
    {
     "data": {
      "text/plain": [
       "array([0, 0, 0, 0, 0, 0, 0, 1, 0, 0, 0], dtype=int64)"
      ]
     },
     "execution_count": 10,
     "metadata": {},
     "output_type": "execute_result"
    }
   ],
   "source": [
    "y"
   ]
  },
  {
   "cell_type": "code",
   "execution_count": 11,
   "id": "e5e35385",
   "metadata": {},
   "outputs": [],
   "source": [
    "#Since our dataset containing character variables we have to encode it using LabelEncoder\n",
    "from sklearn.preprocessing import LabelEncoder\n",
    "le = LabelEncoder()\n",
    "X[:,0] = le.fit_transform(X[:,0])"
   ]
  },
  {
   "cell_type": "code",
   "execution_count": 12,
   "id": "0d9235f9",
   "metadata": {},
   "outputs": [],
   "source": [
    "#splitting the dataset into training and test set\n",
    "from sklearn.model_selection import train_test_split\n",
    "X_train, X_test, y_train, y_test = train_test_split(X,y, test_size= 0.2, random_state= 0)"
   ]
  },
  {
   "cell_type": "code",
   "execution_count": 13,
   "id": "e8e85198",
   "metadata": {},
   "outputs": [],
   "source": [
    "#feature scaling- \n",
    "#It is a step of data Pre-Processing which is applied to independent variables to normalize the data within a particular range.\n",
    "\n",
    "from sklearn.preprocessing import StandardScaler\n",
    "sc = StandardScaler()\n",
    "X_train = sc.fit_transform(X_train)\n",
    "X_test = sc.transform(X_test)\n",
    " "
   ]
  },
  {
   "cell_type": "code",
   "execution_count": 14,
   "id": "7abadb48",
   "metadata": {},
   "outputs": [
    {
     "data": {
      "text/plain": [
       "GaussianNB()"
      ]
     },
     "execution_count": 14,
     "metadata": {},
     "output_type": "execute_result"
    }
   ],
   "source": [
    "#training the naive model on the training set\n",
    "from sklearn.naive_bayes import GaussianNB\n",
    "classifier= GaussianNB()\n",
    "classifier.fit(X_train, y_train)"
   ]
  },
  {
   "cell_type": "code",
   "execution_count": 15,
   "id": "e1fd1974",
   "metadata": {},
   "outputs": [],
   "source": [
    "# Predicting the Test set results\n",
    "y_pred = classifier.predict(X_test)"
   ]
  },
  {
   "cell_type": "code",
   "execution_count": 16,
   "id": "81d71a5f",
   "metadata": {},
   "outputs": [
    {
     "data": {
      "text/plain": [
       "array([0, 0, 0], dtype=int64)"
      ]
     },
     "execution_count": 16,
     "metadata": {},
     "output_type": "execute_result"
    }
   ],
   "source": [
    "y_pred"
   ]
  },
  {
   "cell_type": "code",
   "execution_count": 17,
   "id": "ed618e23",
   "metadata": {},
   "outputs": [
    {
     "data": {
      "text/plain": [
       "array([0, 0, 0], dtype=int64)"
      ]
     },
     "execution_count": 17,
     "metadata": {},
     "output_type": "execute_result"
    }
   ],
   "source": [
    "y_test"
   ]
  },
  {
   "cell_type": "code",
   "execution_count": 18,
   "id": "ed84bc89",
   "metadata": {},
   "outputs": [],
   "source": [
    "#We can evaluate our matrix using the confusion matrix and accuracy score by comparing the predicted and actual test values\n",
    "from sklearn.metrics import confusion_matrix, accuracy_score\n",
    "cm = confusion_matrix(y_pred, y_test)\n",
    "ac = accuracy_score(y_pred, y_test)"
   ]
  },
  {
   "cell_type": "code",
   "execution_count": 19,
   "id": "1eba781b",
   "metadata": {},
   "outputs": [
    {
     "data": {
      "text/plain": [
       "array([[3]], dtype=int64)"
      ]
     },
     "execution_count": 19,
     "metadata": {},
     "output_type": "execute_result"
    }
   ],
   "source": [
    "cm"
   ]
  },
  {
   "cell_type": "code",
   "execution_count": 20,
   "id": "0b8b90f0",
   "metadata": {},
   "outputs": [
    {
     "data": {
      "text/plain": [
       "1.0"
      ]
     },
     "execution_count": 20,
     "metadata": {},
     "output_type": "execute_result"
    }
   ],
   "source": [
    "ac"
   ]
  },
  {
   "cell_type": "code",
   "execution_count": null,
   "id": "652978ac",
   "metadata": {},
   "outputs": [],
   "source": []
  }
 ],
 "metadata": {
  "kernelspec": {
   "display_name": "Python 3",
   "language": "python",
   "name": "python3"
  },
  "language_info": {
   "codemirror_mode": {
    "name": "ipython",
    "version": 3
   },
   "file_extension": ".py",
   "mimetype": "text/x-python",
   "name": "python",
   "nbconvert_exporter": "python",
   "pygments_lexer": "ipython3",
   "version": "3.8.8"
  }
 },
 "nbformat": 4,
 "nbformat_minor": 5
}
